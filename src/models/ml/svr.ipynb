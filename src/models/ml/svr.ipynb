{
 "cells": [
  {
   "cell_type": "code",
   "execution_count": 1,
   "id": "b863b4d1",
   "metadata": {},
   "outputs": [],
   "source": [
    "import pandas as pd\n",
    "import matplotlib.pyplot as plt\n",
    "import seaborn as sns\n",
    "import numpy as np"
   ]
  },
  {
   "cell_type": "code",
   "execution_count": 2,
   "id": "e1f62eee",
   "metadata": {},
   "outputs": [],
   "source": [
    "pd.set_option(\"display.max_rows\", None)\n",
    "pd.set_option(\"display.max_columns\", None)"
   ]
  },
  {
   "cell_type": "code",
   "execution_count": 5,
   "id": "b6d8f242",
   "metadata": {},
   "outputs": [],
   "source": [
    "df_brl = pd.read_parquet('../../../data/all_comm/all_commodities_brl.parquet')"
   ]
  },
  {
   "cell_type": "code",
   "execution_count": 6,
   "id": "9a2c53ce",
   "metadata": {},
   "outputs": [
    {
     "data": {
      "text/html": [
       "<div>\n",
       "<style scoped>\n",
       "    .dataframe tbody tr th:only-of-type {\n",
       "        vertical-align: middle;\n",
       "    }\n",
       "\n",
       "    .dataframe tbody tr th {\n",
       "        vertical-align: top;\n",
       "    }\n",
       "\n",
       "    .dataframe thead th {\n",
       "        text-align: right;\n",
       "    }\n",
       "</style>\n",
       "<table border=\"1\" class=\"dataframe\">\n",
       "  <thead>\n",
       "    <tr style=\"text-align: right;\">\n",
       "      <th></th>\n",
       "      <th>ds</th>\n",
       "      <th>y</th>\n",
       "      <th>unique_id</th>\n",
       "    </tr>\n",
       "  </thead>\n",
       "  <tbody>\n",
       "    <tr>\n",
       "      <th>0</th>\n",
       "      <td>2020-01-02</td>\n",
       "      <td>65.40</td>\n",
       "      <td>ACUCAR_SANTOS</td>\n",
       "    </tr>\n",
       "    <tr>\n",
       "      <th>1</th>\n",
       "      <td>2020-01-03</td>\n",
       "      <td>66.80</td>\n",
       "      <td>ACUCAR_SANTOS</td>\n",
       "    </tr>\n",
       "    <tr>\n",
       "      <th>2</th>\n",
       "      <td>2020-01-06</td>\n",
       "      <td>68.92</td>\n",
       "      <td>ACUCAR_SANTOS</td>\n",
       "    </tr>\n",
       "    <tr>\n",
       "      <th>3</th>\n",
       "      <td>2020-01-07</td>\n",
       "      <td>68.85</td>\n",
       "      <td>ACUCAR_SANTOS</td>\n",
       "    </tr>\n",
       "    <tr>\n",
       "      <th>4</th>\n",
       "      <td>2020-01-08</td>\n",
       "      <td>68.32</td>\n",
       "      <td>ACUCAR_SANTOS</td>\n",
       "    </tr>\n",
       "  </tbody>\n",
       "</table>\n",
       "</div>"
      ],
      "text/plain": [
       "          ds      y      unique_id\n",
       "0 2020-01-02  65.40  ACUCAR_SANTOS\n",
       "1 2020-01-03  66.80  ACUCAR_SANTOS\n",
       "2 2020-01-06  68.92  ACUCAR_SANTOS\n",
       "3 2020-01-07  68.85  ACUCAR_SANTOS\n",
       "4 2020-01-08  68.32  ACUCAR_SANTOS"
      ]
     },
     "execution_count": 6,
     "metadata": {},
     "output_type": "execute_result"
    }
   ],
   "source": [
    "df_brl.head()"
   ]
  },
  {
   "cell_type": "code",
   "execution_count": 7,
   "id": "d1a06f89",
   "metadata": {},
   "outputs": [
    {
     "data": {
      "text/html": [
       "<div>\n",
       "<style scoped>\n",
       "    .dataframe tbody tr th:only-of-type {\n",
       "        vertical-align: middle;\n",
       "    }\n",
       "\n",
       "    .dataframe tbody tr th {\n",
       "        vertical-align: top;\n",
       "    }\n",
       "\n",
       "    .dataframe thead th {\n",
       "        text-align: right;\n",
       "    }\n",
       "</style>\n",
       "<table border=\"1\" class=\"dataframe\">\n",
       "  <thead>\n",
       "    <tr style=\"text-align: right;\">\n",
       "      <th></th>\n",
       "      <th>ds</th>\n",
       "      <th>y</th>\n",
       "      <th>unique_id</th>\n",
       "    </tr>\n",
       "  </thead>\n",
       "  <tbody>\n",
       "    <tr>\n",
       "      <th>59356</th>\n",
       "      <td>2025-04-24</td>\n",
       "      <td>1476.85</td>\n",
       "      <td>TRIGO_RS</td>\n",
       "    </tr>\n",
       "    <tr>\n",
       "      <th>59357</th>\n",
       "      <td>2025-04-25</td>\n",
       "      <td>1476.85</td>\n",
       "      <td>TRIGO_RS</td>\n",
       "    </tr>\n",
       "    <tr>\n",
       "      <th>59358</th>\n",
       "      <td>2025-04-28</td>\n",
       "      <td>1483.36</td>\n",
       "      <td>TRIGO_RS</td>\n",
       "    </tr>\n",
       "    <tr>\n",
       "      <th>59359</th>\n",
       "      <td>2025-04-29</td>\n",
       "      <td>1473.82</td>\n",
       "      <td>TRIGO_RS</td>\n",
       "    </tr>\n",
       "    <tr>\n",
       "      <th>59360</th>\n",
       "      <td>2025-04-30</td>\n",
       "      <td>1471.23</td>\n",
       "      <td>TRIGO_RS</td>\n",
       "    </tr>\n",
       "  </tbody>\n",
       "</table>\n",
       "</div>"
      ],
      "text/plain": [
       "              ds        y unique_id\n",
       "59356 2025-04-24  1476.85  TRIGO_RS\n",
       "59357 2025-04-25  1476.85  TRIGO_RS\n",
       "59358 2025-04-28  1483.36  TRIGO_RS\n",
       "59359 2025-04-29  1473.82  TRIGO_RS\n",
       "59360 2025-04-30  1471.23  TRIGO_RS"
      ]
     },
     "execution_count": 7,
     "metadata": {},
     "output_type": "execute_result"
    }
   ],
   "source": [
    "df_brl.tail()"
   ]
  },
  {
   "cell_type": "code",
   "execution_count": 8,
   "id": "780e9655",
   "metadata": {},
   "outputs": [
    {
     "name": "stdout",
     "output_type": "stream",
     "text": [
      "<class 'pandas.core.frame.DataFrame'>\n",
      "RangeIndex: 59361 entries, 0 to 59360\n",
      "Data columns (total 3 columns):\n",
      " #   Column     Non-Null Count  Dtype         \n",
      "---  ------     --------------  -----         \n",
      " 0   ds         59361 non-null  datetime64[ns]\n",
      " 1   y          59361 non-null  float64       \n",
      " 2   unique_id  59361 non-null  object        \n",
      "dtypes: datetime64[ns](1), float64(1), object(1)\n",
      "memory usage: 1.4+ MB\n"
     ]
    }
   ],
   "source": [
    "df_brl.info()"
   ]
  },
  {
   "cell_type": "code",
   "execution_count": 23,
   "id": "cbd15477",
   "metadata": {},
   "outputs": [],
   "source": [
    "def split_series(df):\n",
    "    train_list = []\n",
    "    val_list = []\n",
    "    test_list = []\n",
    "\n",
    "    for uid, group in df.groupby('unique_id'):\n",
    "        n = len(group)\n",
    "        \n",
    "        train_end = int(n * 0.7)\n",
    "        test_start = train_end\n",
    "        \n",
    "        val_start = int(train_end * 0.8)\n",
    "        \n",
    "        train = group.iloc[:val_start].copy()\n",
    "        val = group.iloc[val_start:train_end].copy()\n",
    "        test = group.iloc[test_start:].copy()\n",
    "        \n",
    "        train_list.append(train)\n",
    "        val_list.append(val)\n",
    "        test_list.append(test)\n",
    "\n",
    "        df_train = pd.concat(train_list).reset_index(drop=True)\n",
    "        df_val = pd.concat(val_list).reset_index(drop=True)\n",
    "        df_test = pd.concat(test_list).reset_index(drop=True)\n",
    "\n",
    "        return df_train, df_val, df_test\n",
    "\n",
    "# Treino - Validação - Teste (70:20:30)"
   ]
  },
  {
   "cell_type": "code",
   "execution_count": 24,
   "id": "988af4ff",
   "metadata": {},
   "outputs": [],
   "source": [
    "train, val, test = split_series(df_brl)"
   ]
  },
  {
   "cell_type": "code",
   "execution_count": 25,
   "id": "8764dd12",
   "metadata": {},
   "outputs": [
    {
     "data": {
      "text/html": [
       "<div>\n",
       "<style scoped>\n",
       "    .dataframe tbody tr th:only-of-type {\n",
       "        vertical-align: middle;\n",
       "    }\n",
       "\n",
       "    .dataframe tbody tr th {\n",
       "        vertical-align: top;\n",
       "    }\n",
       "\n",
       "    .dataframe thead th {\n",
       "        text-align: right;\n",
       "    }\n",
       "</style>\n",
       "<table border=\"1\" class=\"dataframe\">\n",
       "  <thead>\n",
       "    <tr style=\"text-align: right;\">\n",
       "      <th></th>\n",
       "      <th>ds</th>\n",
       "      <th>y</th>\n",
       "      <th>unique_id</th>\n",
       "    </tr>\n",
       "  </thead>\n",
       "  <tbody>\n",
       "    <tr>\n",
       "      <th>0</th>\n",
       "      <td>2020-01-02</td>\n",
       "      <td>65.40</td>\n",
       "      <td>ACUCAR_SANTOS</td>\n",
       "    </tr>\n",
       "    <tr>\n",
       "      <th>1</th>\n",
       "      <td>2020-01-03</td>\n",
       "      <td>66.80</td>\n",
       "      <td>ACUCAR_SANTOS</td>\n",
       "    </tr>\n",
       "    <tr>\n",
       "      <th>2</th>\n",
       "      <td>2020-01-06</td>\n",
       "      <td>68.92</td>\n",
       "      <td>ACUCAR_SANTOS</td>\n",
       "    </tr>\n",
       "    <tr>\n",
       "      <th>3</th>\n",
       "      <td>2020-01-07</td>\n",
       "      <td>68.85</td>\n",
       "      <td>ACUCAR_SANTOS</td>\n",
       "    </tr>\n",
       "    <tr>\n",
       "      <th>4</th>\n",
       "      <td>2020-01-08</td>\n",
       "      <td>68.32</td>\n",
       "      <td>ACUCAR_SANTOS</td>\n",
       "    </tr>\n",
       "  </tbody>\n",
       "</table>\n",
       "</div>"
      ],
      "text/plain": [
       "          ds      y      unique_id\n",
       "0 2020-01-02  65.40  ACUCAR_SANTOS\n",
       "1 2020-01-03  66.80  ACUCAR_SANTOS\n",
       "2 2020-01-06  68.92  ACUCAR_SANTOS\n",
       "3 2020-01-07  68.85  ACUCAR_SANTOS\n",
       "4 2020-01-08  68.32  ACUCAR_SANTOS"
      ]
     },
     "execution_count": 25,
     "metadata": {},
     "output_type": "execute_result"
    }
   ],
   "source": [
    "train.head()"
   ]
  },
  {
   "cell_type": "code",
   "execution_count": null,
   "id": "d1f37aa7",
   "metadata": {},
   "outputs": [],
   "source": []
  }
 ],
 "metadata": {
  "kernelspec": {
   "display_name": "smps",
   "language": "python",
   "name": "python3"
  },
  "language_info": {
   "codemirror_mode": {
    "name": "ipython",
    "version": 3
   },
   "file_extension": ".py",
   "mimetype": "text/x-python",
   "name": "python",
   "nbconvert_exporter": "python",
   "pygments_lexer": "ipython3",
   "version": "3.10.18"
  }
 },
 "nbformat": 4,
 "nbformat_minor": 5
}
