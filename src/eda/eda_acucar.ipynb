{
 "cells": [
  {
   "cell_type": "code",
   "execution_count": 1,
   "id": "c7f993b0",
   "metadata": {},
   "outputs": [],
   "source": [
    "import pandas as pd\n",
    "\n",
    "from src.data.loaders import CommodityLoader"
   ]
  },
  {
   "cell_type": "code",
   "execution_count": 2,
   "id": "cf23a97a",
   "metadata": {},
   "outputs": [],
   "source": [
    "pd.set_option(\"display.max_rows\", None)\n",
    "pd.set_option(\"display.max_columns\", None)"
   ]
  },
  {
   "cell_type": "code",
   "execution_count": 3,
   "id": "55c1f424",
   "metadata": {},
   "outputs": [],
   "source": [
    "df_santos = CommodityLoader.load_commodity('acucar_santos', monthly_aggregation=False)\n",
    "df_sp = CommodityLoader.load_commodity('acucar_sp', monthly_aggregation=False)"
   ]
  },
  {
   "cell_type": "code",
   "execution_count": 4,
   "id": "da1658e4",
   "metadata": {},
   "outputs": [
    {
     "name": "stdout",
     "output_type": "stream",
     "text": [
      "ദ്ദി・ᴗ・)✧ acucar_santos carregado com sucesso\n",
      "ദ്ദി・ᴗ・)✧ acucar_sp carregado com sucesso\n",
      "ദ്ദി・ᴗ・)✧ algodao carregado com sucesso\n",
      "ദ്ദി・ᴗ・)✧ arroz carregado com sucesso\n",
      "ദ്ദി・ᴗ・)✧ cafe_arabica carregado com sucesso\n",
      "ദ്ദി・ᴗ・)✧ cafe_robusta carregado com sucesso\n",
      "ദ്ദി・ᴗ・)✧ milho carregado com sucesso\n",
      "ദ്ദി・ᴗ・)✧ soja_parana carregado com sucesso\n",
      "ദ്ദി・ᴗ・)✧ soja_paranagua carregado com sucesso\n",
      "ദ്ദി・ᴗ・)✧ trigo_parana carregado com sucesso\n",
      "ദ്ദി・ᴗ・)✧ trigo_rs carregado com sucesso\n"
     ]
    }
   ],
   "source": [
    "df = CommodityLoader.load_all_commodities(monthly_aggregation=False)"
   ]
  },
  {
   "cell_type": "code",
   "execution_count": 4,
   "id": "e250807d",
   "metadata": {},
   "outputs": [
    {
     "data": {
      "text/html": [
       "<div>\n",
       "<style scoped>\n",
       "    .dataframe tbody tr th:only-of-type {\n",
       "        vertical-align: middle;\n",
       "    }\n",
       "\n",
       "    .dataframe tbody tr th {\n",
       "        vertical-align: top;\n",
       "    }\n",
       "\n",
       "    .dataframe thead th {\n",
       "        text-align: right;\n",
       "    }\n",
       "</style>\n",
       "<table border=\"1\" class=\"dataframe\">\n",
       "  <thead>\n",
       "    <tr style=\"text-align: right;\">\n",
       "      <th></th>\n",
       "      <th>ds</th>\n",
       "      <th>y</th>\n",
       "      <th>unique_id</th>\n",
       "    </tr>\n",
       "  </thead>\n",
       "  <tbody>\n",
       "    <tr>\n",
       "      <th>0</th>\n",
       "      <td>2020-01-02</td>\n",
       "      <td>65.40</td>\n",
       "      <td>ACUCAR_SANTOS</td>\n",
       "    </tr>\n",
       "    <tr>\n",
       "      <th>1</th>\n",
       "      <td>2020-01-03</td>\n",
       "      <td>66.80</td>\n",
       "      <td>ACUCAR_SANTOS</td>\n",
       "    </tr>\n",
       "    <tr>\n",
       "      <th>2</th>\n",
       "      <td>2020-01-06</td>\n",
       "      <td>68.92</td>\n",
       "      <td>ACUCAR_SANTOS</td>\n",
       "    </tr>\n",
       "    <tr>\n",
       "      <th>3</th>\n",
       "      <td>2020-01-07</td>\n",
       "      <td>68.85</td>\n",
       "      <td>ACUCAR_SANTOS</td>\n",
       "    </tr>\n",
       "    <tr>\n",
       "      <th>4</th>\n",
       "      <td>2020-01-08</td>\n",
       "      <td>68.32</td>\n",
       "      <td>ACUCAR_SANTOS</td>\n",
       "    </tr>\n",
       "  </tbody>\n",
       "</table>\n",
       "</div>"
      ],
      "text/plain": [
       "          ds      y      unique_id\n",
       "0 2020-01-02  65.40  ACUCAR_SANTOS\n",
       "1 2020-01-03  66.80  ACUCAR_SANTOS\n",
       "2 2020-01-06  68.92  ACUCAR_SANTOS\n",
       "3 2020-01-07  68.85  ACUCAR_SANTOS\n",
       "4 2020-01-08  68.32  ACUCAR_SANTOS"
      ]
     },
     "execution_count": 4,
     "metadata": {},
     "output_type": "execute_result"
    }
   ],
   "source": [
    "df_santos.head()"
   ]
  },
  {
   "cell_type": "code",
   "execution_count": 5,
   "id": "dc57054e",
   "metadata": {},
   "outputs": [
    {
     "data": {
      "text/html": [
       "<div>\n",
       "<style scoped>\n",
       "    .dataframe tbody tr th:only-of-type {\n",
       "        vertical-align: middle;\n",
       "    }\n",
       "\n",
       "    .dataframe tbody tr th {\n",
       "        vertical-align: top;\n",
       "    }\n",
       "\n",
       "    .dataframe thead th {\n",
       "        text-align: right;\n",
       "    }\n",
       "</style>\n",
       "<table border=\"1\" class=\"dataframe\">\n",
       "  <thead>\n",
       "    <tr style=\"text-align: right;\">\n",
       "      <th></th>\n",
       "      <th>ds</th>\n",
       "      <th>y</th>\n",
       "      <th>unique_id</th>\n",
       "    </tr>\n",
       "  </thead>\n",
       "  <tbody>\n",
       "    <tr>\n",
       "      <th>1325</th>\n",
       "      <td>2025-04-30</td>\n",
       "      <td>130.79</td>\n",
       "      <td>ACUCAR_SANTOS</td>\n",
       "    </tr>\n",
       "    <tr>\n",
       "      <th>1326</th>\n",
       "      <td>2025-05-02</td>\n",
       "      <td>129.39</td>\n",
       "      <td>ACUCAR_SANTOS</td>\n",
       "    </tr>\n",
       "    <tr>\n",
       "      <th>1327</th>\n",
       "      <td>2025-05-05</td>\n",
       "      <td>131.45</td>\n",
       "      <td>ACUCAR_SANTOS</td>\n",
       "    </tr>\n",
       "    <tr>\n",
       "      <th>1328</th>\n",
       "      <td>2025-05-06</td>\n",
       "      <td>132.94</td>\n",
       "      <td>ACUCAR_SANTOS</td>\n",
       "    </tr>\n",
       "    <tr>\n",
       "      <th>1329</th>\n",
       "      <td>2025-05-07</td>\n",
       "      <td>131.12</td>\n",
       "      <td>ACUCAR_SANTOS</td>\n",
       "    </tr>\n",
       "  </tbody>\n",
       "</table>\n",
       "</div>"
      ],
      "text/plain": [
       "             ds       y      unique_id\n",
       "1325 2025-04-30  130.79  ACUCAR_SANTOS\n",
       "1326 2025-05-02  129.39  ACUCAR_SANTOS\n",
       "1327 2025-05-05  131.45  ACUCAR_SANTOS\n",
       "1328 2025-05-06  132.94  ACUCAR_SANTOS\n",
       "1329 2025-05-07  131.12  ACUCAR_SANTOS"
      ]
     },
     "execution_count": 5,
     "metadata": {},
     "output_type": "execute_result"
    }
   ],
   "source": [
    "df_santos.tail()"
   ]
  },
  {
   "cell_type": "code",
   "execution_count": 6,
   "id": "10db07b4",
   "metadata": {},
   "outputs": [
    {
     "name": "stdout",
     "output_type": "stream",
     "text": [
      "<class 'pandas.core.frame.DataFrame'>\n",
      "RangeIndex: 1330 entries, 0 to 1329\n",
      "Data columns (total 3 columns):\n",
      " #   Column     Non-Null Count  Dtype         \n",
      "---  ------     --------------  -----         \n",
      " 0   ds         1330 non-null   datetime64[ns]\n",
      " 1   y          1330 non-null   float64       \n",
      " 2   unique_id  1330 non-null   object        \n",
      "dtypes: datetime64[ns](1), float64(1), object(1)\n",
      "memory usage: 31.3+ KB\n"
     ]
    }
   ],
   "source": [
    "df_santos.info()"
   ]
  },
  {
   "cell_type": "code",
   "execution_count": 7,
   "id": "3d1817c9",
   "metadata": {},
   "outputs": [
    {
     "data": {
      "text/html": [
       "<div>\n",
       "<style scoped>\n",
       "    .dataframe tbody tr th:only-of-type {\n",
       "        vertical-align: middle;\n",
       "    }\n",
       "\n",
       "    .dataframe tbody tr th {\n",
       "        vertical-align: top;\n",
       "    }\n",
       "\n",
       "    .dataframe thead th {\n",
       "        text-align: right;\n",
       "    }\n",
       "</style>\n",
       "<table border=\"1\" class=\"dataframe\">\n",
       "  <thead>\n",
       "    <tr style=\"text-align: right;\">\n",
       "      <th></th>\n",
       "      <th>ds</th>\n",
       "      <th>y</th>\n",
       "      <th>unique_id</th>\n",
       "    </tr>\n",
       "  </thead>\n",
       "  <tbody>\n",
       "    <tr>\n",
       "      <th>0</th>\n",
       "      <td>2003-05-20</td>\n",
       "      <td>29.65</td>\n",
       "      <td>ACUCAR_SP</td>\n",
       "    </tr>\n",
       "    <tr>\n",
       "      <th>1</th>\n",
       "      <td>2003-05-21</td>\n",
       "      <td>29.26</td>\n",
       "      <td>ACUCAR_SP</td>\n",
       "    </tr>\n",
       "    <tr>\n",
       "      <th>2</th>\n",
       "      <td>2003-05-22</td>\n",
       "      <td>28.81</td>\n",
       "      <td>ACUCAR_SP</td>\n",
       "    </tr>\n",
       "    <tr>\n",
       "      <th>3</th>\n",
       "      <td>2003-05-23</td>\n",
       "      <td>28.35</td>\n",
       "      <td>ACUCAR_SP</td>\n",
       "    </tr>\n",
       "    <tr>\n",
       "      <th>4</th>\n",
       "      <td>2003-05-26</td>\n",
       "      <td>27.83</td>\n",
       "      <td>ACUCAR_SP</td>\n",
       "    </tr>\n",
       "  </tbody>\n",
       "</table>\n",
       "</div>"
      ],
      "text/plain": [
       "          ds      y  unique_id\n",
       "0 2003-05-20  29.65  ACUCAR_SP\n",
       "1 2003-05-21  29.26  ACUCAR_SP\n",
       "2 2003-05-22  28.81  ACUCAR_SP\n",
       "3 2003-05-23  28.35  ACUCAR_SP\n",
       "4 2003-05-26  27.83  ACUCAR_SP"
      ]
     },
     "execution_count": 7,
     "metadata": {},
     "output_type": "execute_result"
    }
   ],
   "source": [
    "df_sp.head()"
   ]
  },
  {
   "cell_type": "code",
   "execution_count": null,
   "id": "b97af3cf",
   "metadata": {},
   "outputs": [],
   "source": []
  },
  {
   "cell_type": "code",
   "execution_count": null,
   "id": "d81b13c0",
   "metadata": {},
   "outputs": [],
   "source": []
  },
  {
   "cell_type": "code",
   "execution_count": null,
   "id": "7a684804",
   "metadata": {},
   "outputs": [],
   "source": []
  },
  {
   "cell_type": "code",
   "execution_count": null,
   "id": "7022a44a",
   "metadata": {},
   "outputs": [],
   "source": []
  },
  {
   "cell_type": "code",
   "execution_count": null,
   "id": "22e645b9",
   "metadata": {},
   "outputs": [],
   "source": []
  }
 ],
 "metadata": {
  "kernelspec": {
   "display_name": "smp-commodities",
   "language": "python",
   "name": "python3"
  },
  "language_info": {
   "codemirror_mode": {
    "name": "ipython",
    "version": 3
   },
   "file_extension": ".py",
   "mimetype": "text/x-python",
   "name": "python",
   "nbconvert_exporter": "python",
   "pygments_lexer": "ipython3",
   "version": "3.9.21"
  }
 },
 "nbformat": 4,
 "nbformat_minor": 5
}
